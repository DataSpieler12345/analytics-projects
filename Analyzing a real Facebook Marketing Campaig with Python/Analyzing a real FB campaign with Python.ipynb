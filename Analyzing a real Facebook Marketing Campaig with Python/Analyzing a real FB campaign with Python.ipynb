{
 "cells": [
  {
   "cell_type": "markdown",
   "id": "58ec83c8",
   "metadata": {},
   "source": [
    "<center><h1><b><font size=\"5\">Analyzing a Facebook Campaign with Paython - Overall Campaign Performance</font></b></h1></center>"
   ]
  },
  {
   "cell_type": "markdown",
   "id": "4a1a9a6e",
   "metadata": {},
   "source": [
    "### Facebook Metrics Refresher"
   ]
  },
  {
   "cell_type": "markdown",
   "id": "004284f5",
   "metadata": {},
   "source": [
    "#### 1. Reach: \n",
    "\n",
    "The number of unique people who saw your ad.\n",
    "\n",
    "#### 2. Impressions: \n",
    "\n",
    "The total number of times an ad was displayed on your audience's screen.\n",
    "\n",
    "#### 3. Clicks (All): \n",
    "\n",
    "The total number of clicks your ad received, including clicks on the like and share buttons.\n",
    "\n",
    "#### 4. Link Clicks: \n",
    "\n",
    "The number of clicks on an ad link that leads to a specified destination.\n",
    "\n",
    "#### 5. CTR: \n",
    "\n",
    "$\\displaystyle \\frac{\\text{Total Clicks}}{\\text{Total Impressions}} \\times 100$\n",
    "\n",
    "#### 6. Conversions: \n",
    "\n",
    "The number of times users completed the desired action.\n",
    "#### 7. Conversion Rate: \n",
    "\n",
    "$\\displaystyle \\frac{\\text{Number of Conversions}}{\\text{Total Results}}$\n",
    "\n",
    "#### 8. CPM (Cost per Thousand Impressions):\n",
    "\n",
    "$\\displaystyle \\frac{\\text{Total Amount Spent}}{\\text{Total Impressions}} \\times 1000$\n",
    "\n",
    "#### 9. CPC (Cost per Link Click)\n",
    "\n",
    "$\\displaystyle \\frac{\\text{Total Amount Spent}}{\\text{Total Link Clicks}}$\n",
    "\n",
    "#### 10. CPR (Cost per Result):\n",
    "$\\displaystyle \\frac{\\text{Total Amount Spent}}{\\text{Total Results}}$"
   ]
  },
  {
   "cell_type": "markdown",
   "id": "16620207",
   "metadata": {},
   "source": [
    "## Step 1: Examine the Dataset"
   ]
  },
  {
   "cell_type": "code",
   "execution_count": 3,
   "id": "c8b1472b",
   "metadata": {},
   "outputs": [
    {
     "data": {
      "text/html": [
       "<div>\n",
       "<style scoped>\n",
       "    .dataframe tbody tr th:only-of-type {\n",
       "        vertical-align: middle;\n",
       "    }\n",
       "\n",
       "    .dataframe tbody tr th {\n",
       "        vertical-align: top;\n",
       "    }\n",
       "\n",
       "    .dataframe thead th {\n",
       "        text-align: right;\n",
       "    }\n",
       "</style>\n",
       "<table border=\"1\" class=\"dataframe\">\n",
       "  <thead>\n",
       "    <tr style=\"text-align: right;\">\n",
       "      <th></th>\n",
       "      <th>Reporting Starts</th>\n",
       "      <th>Reporting Ends</th>\n",
       "      <th>Ad Set Name</th>\n",
       "      <th>Amount Spent</th>\n",
       "      <th>Results</th>\n",
       "      <th>Result indicator</th>\n",
       "      <th>CPR</th>\n",
       "      <th>Reach</th>\n",
       "      <th>Impressions</th>\n",
       "      <th>Frequency</th>\n",
       "      <th>CPM</th>\n",
       "      <th>CPC</th>\n",
       "      <th>CTR (all)</th>\n",
       "      <th>Link Clicks</th>\n",
       "      <th>Landing Page Views</th>\n",
       "    </tr>\n",
       "  </thead>\n",
       "  <tbody>\n",
       "    <tr>\n",
       "      <th>0</th>\n",
       "      <td>20/5/2022</td>\n",
       "      <td>31/5/2022</td>\n",
       "      <td>T1 - Cold - LLA - Promo May</td>\n",
       "      <td>332.65</td>\n",
       "      <td>2</td>\n",
       "      <td>actions:offsite_conversion.fb_pixel_purchase</td>\n",
       "      <td>166.3250</td>\n",
       "      <td>6032</td>\n",
       "      <td>12594</td>\n",
       "      <td>2.087865</td>\n",
       "      <td>26.413371</td>\n",
       "      <td>2.294138</td>\n",
       "      <td>2.207400</td>\n",
       "      <td>145</td>\n",
       "      <td>89</td>\n",
       "    </tr>\n",
       "    <tr>\n",
       "      <th>1</th>\n",
       "      <td>20/5/2022</td>\n",
       "      <td>31/5/2022</td>\n",
       "      <td>T1 - Cold - DT - Promo May</td>\n",
       "      <td>915.00</td>\n",
       "      <td>15</td>\n",
       "      <td>actions:offsite_conversion.fb_pixel_purchase</td>\n",
       "      <td>61.0000</td>\n",
       "      <td>18900</td>\n",
       "      <td>42510</td>\n",
       "      <td>2.249206</td>\n",
       "      <td>21.524347</td>\n",
       "      <td>2.636888</td>\n",
       "      <td>1.587862</td>\n",
       "      <td>347</td>\n",
       "      <td>215</td>\n",
       "    </tr>\n",
       "    <tr>\n",
       "      <th>2</th>\n",
       "      <td>20/5/2022</td>\n",
       "      <td>31/5/2022</td>\n",
       "      <td>T2 - Cold - LLA - Promo May</td>\n",
       "      <td>327.77</td>\n",
       "      <td>4</td>\n",
       "      <td>actions:offsite_conversion.fb_pixel_purchase</td>\n",
       "      <td>81.9425</td>\n",
       "      <td>34743</td>\n",
       "      <td>61268</td>\n",
       "      <td>1.763463</td>\n",
       "      <td>5.349775</td>\n",
       "      <td>0.947312</td>\n",
       "      <td>1.237187</td>\n",
       "      <td>346</td>\n",
       "      <td>220</td>\n",
       "    </tr>\n",
       "    <tr>\n",
       "      <th>3</th>\n",
       "      <td>20/5/2022</td>\n",
       "      <td>31/5/2022</td>\n",
       "      <td>T2 - Cold - DT - Promo May</td>\n",
       "      <td>297.38</td>\n",
       "      <td>0</td>\n",
       "      <td>NaN</td>\n",
       "      <td>NaN</td>\n",
       "      <td>45001</td>\n",
       "      <td>65880</td>\n",
       "      <td>1.463967</td>\n",
       "      <td>4.513965</td>\n",
       "      <td>0.788806</td>\n",
       "      <td>1.220401</td>\n",
       "      <td>377</td>\n",
       "      <td>225</td>\n",
       "    </tr>\n",
       "    <tr>\n",
       "      <th>4</th>\n",
       "      <td>20/5/2022</td>\n",
       "      <td>31/5/2022</td>\n",
       "      <td>T3 - Cold - LLA - Promo May</td>\n",
       "      <td>291.45</td>\n",
       "      <td>4</td>\n",
       "      <td>actions:offsite_conversion.fb_pixel_purchase</td>\n",
       "      <td>72.8625</td>\n",
       "      <td>69040</td>\n",
       "      <td>147600</td>\n",
       "      <td>2.137891</td>\n",
       "      <td>1.974594</td>\n",
       "      <td>0.464092</td>\n",
       "      <td>1.115854</td>\n",
       "      <td>628</td>\n",
       "      <td>372</td>\n",
       "    </tr>\n",
       "  </tbody>\n",
       "</table>\n",
       "</div>"
      ],
      "text/plain": [
       "  Reporting Starts Reporting Ends                  Ad Set Name  Amount Spent  \\\n",
       "0        20/5/2022      31/5/2022  T1 - Cold - LLA - Promo May        332.65   \n",
       "1        20/5/2022      31/5/2022   T1 - Cold - DT - Promo May        915.00   \n",
       "2        20/5/2022      31/5/2022  T2 - Cold - LLA - Promo May        327.77   \n",
       "3        20/5/2022      31/5/2022   T2 - Cold - DT - Promo May        297.38   \n",
       "4        20/5/2022      31/5/2022  T3 - Cold - LLA - Promo May        291.45   \n",
       "\n",
       "   Results                              Result indicator       CPR  Reach  \\\n",
       "0        2  actions:offsite_conversion.fb_pixel_purchase  166.3250   6032   \n",
       "1       15  actions:offsite_conversion.fb_pixel_purchase   61.0000  18900   \n",
       "2        4  actions:offsite_conversion.fb_pixel_purchase   81.9425  34743   \n",
       "3        0                                           NaN       NaN  45001   \n",
       "4        4  actions:offsite_conversion.fb_pixel_purchase   72.8625  69040   \n",
       "\n",
       "   Impressions  Frequency        CPM       CPC  CTR (all)  Link Clicks  \\\n",
       "0        12594   2.087865  26.413371  2.294138   2.207400          145   \n",
       "1        42510   2.249206  21.524347  2.636888   1.587862          347   \n",
       "2        61268   1.763463   5.349775  0.947312   1.237187          346   \n",
       "3        65880   1.463967   4.513965  0.788806   1.220401          377   \n",
       "4       147600   2.137891   1.974594  0.464092   1.115854          628   \n",
       "\n",
       "   Landing Page Views  \n",
       "0                  89  \n",
       "1                 215  \n",
       "2                 220  \n",
       "3                 225  \n",
       "4                 372  "
      ]
     },
     "execution_count": 3,
     "metadata": {},
     "output_type": "execute_result"
    }
   ],
   "source": [
    "import pandas as pd \n",
    "df = pd.read_csv('./data/365DS_Adsets.csv')\n",
    "df.head()"
   ]
  },
  {
   "cell_type": "code",
   "execution_count": 4,
   "id": "8e9de57d",
   "metadata": {},
   "outputs": [
    {
     "name": "stdout",
     "output_type": "stream",
     "text": [
      "<class 'pandas.core.frame.DataFrame'>\n",
      "RangeIndex: 13 entries, 0 to 12\n",
      "Data columns (total 15 columns):\n",
      " #   Column              Non-Null Count  Dtype  \n",
      "---  ------              --------------  -----  \n",
      " 0   Reporting Starts    13 non-null     object \n",
      " 1   Reporting Ends      13 non-null     object \n",
      " 2   Ad Set Name         13 non-null     object \n",
      " 3   Amount Spent        13 non-null     float64\n",
      " 4   Results             13 non-null     int64  \n",
      " 5   Result indicator    11 non-null     object \n",
      " 6   CPR                 11 non-null     float64\n",
      " 7   Reach               13 non-null     int64  \n",
      " 8   Impressions         13 non-null     int64  \n",
      " 9   Frequency           13 non-null     float64\n",
      " 10  CPM                 13 non-null     float64\n",
      " 11  CPC                 13 non-null     float64\n",
      " 12  CTR (all)           13 non-null     float64\n",
      " 13  Link Clicks         13 non-null     int64  \n",
      " 14  Landing Page Views  13 non-null     int64  \n",
      "dtypes: float64(6), int64(5), object(4)\n",
      "memory usage: 1.6+ KB\n"
     ]
    }
   ],
   "source": [
    "df.info()"
   ]
  },
  {
   "cell_type": "markdown",
   "id": "39eee7ea",
   "metadata": {},
   "source": [
    "## Step 2:Campaign Highlights"
   ]
  },
  {
   "cell_type": "code",
   "execution_count": 7,
   "id": "ebfbde61",
   "metadata": {},
   "outputs": [
    {
     "data": {
      "text/plain": [
       "Reach                  453534.00\n",
       "Impressions           1136052.00\n",
       "Link Clicks              5589.00\n",
       "Landing Page Views       2985.00\n",
       "Results                    83.00\n",
       "Amount Spent             4362.12\n",
       "dtype: float64"
      ]
     },
     "execution_count": 7,
     "metadata": {},
     "output_type": "execute_result"
    }
   ],
   "source": [
    "df[[\"Reach\",\"Impressions\",\"Link Clicks\",\"Landing Page Views\",\"Results\",\"Amount Spent\"]].sum()"
   ]
  },
  {
   "cell_type": "markdown",
   "id": "39208cf4",
   "metadata": {},
   "source": [
    "## Campaign Highlights\n",
    "\n",
    "1. We reached around 450K unique people.\n",
    "2. Approx 1.1 million impressions.\n",
    "3. Each person saw the ad around 2.5 times.\n",
    "4. Approx 5.6K link clicks and 2.9K landing page views.\n",
    "5. Total of 83 results.\n",
    "6. Spent 4,362 EUR."
   ]
  },
  {
   "cell_type": "markdown",
   "id": "aa9c5549",
   "metadata": {},
   "source": [
    "#### 8. CPM (Cost per 1000 Impressions):\n",
    "\n",
    "$\\displaystyle \\frac{\\text{Total Amount Spent}}{\\text{Impressions}} \\times 1000$"
   ]
  },
  {
   "cell_type": "code",
   "execution_count": 8,
   "id": "5b830572",
   "metadata": {},
   "outputs": [
    {
     "data": {
      "text/plain": [
       "6.552931634584924"
      ]
     },
     "execution_count": 8,
     "metadata": {},
     "output_type": "execute_result"
    }
   ],
   "source": [
    "((df['Amount Spent']/df['Impressions'])*1000).mean()"
   ]
  },
  {
   "cell_type": "code",
   "execution_count": 9,
   "id": "106ef569",
   "metadata": {},
   "outputs": [
    {
     "data": {
      "text/html": [
       "<div>\n",
       "<style scoped>\n",
       "    .dataframe tbody tr th:only-of-type {\n",
       "        vertical-align: middle;\n",
       "    }\n",
       "\n",
       "    .dataframe tbody tr th {\n",
       "        vertical-align: top;\n",
       "    }\n",
       "\n",
       "    .dataframe thead th {\n",
       "        text-align: right;\n",
       "    }\n",
       "</style>\n",
       "<table border=\"1\" class=\"dataframe\">\n",
       "  <thead>\n",
       "    <tr style=\"text-align: right;\">\n",
       "      <th></th>\n",
       "      <th>Reporting Starts</th>\n",
       "      <th>Reporting Ends</th>\n",
       "      <th>Ad Set Name</th>\n",
       "      <th>Amount Spent</th>\n",
       "      <th>Results</th>\n",
       "      <th>Result indicator</th>\n",
       "      <th>CPR</th>\n",
       "      <th>Reach</th>\n",
       "      <th>Impressions</th>\n",
       "      <th>Frequency</th>\n",
       "      <th>CPM</th>\n",
       "      <th>CPC</th>\n",
       "      <th>CTR (all)</th>\n",
       "      <th>Link Clicks</th>\n",
       "      <th>Landing Page Views</th>\n",
       "    </tr>\n",
       "  </thead>\n",
       "  <tbody>\n",
       "    <tr>\n",
       "      <th>0</th>\n",
       "      <td>20/5/2022</td>\n",
       "      <td>31/5/2022</td>\n",
       "      <td>T1 - Cold - LLA - Promo May</td>\n",
       "      <td>332.65</td>\n",
       "      <td>2</td>\n",
       "      <td>actions:offsite_conversion.fb_pixel_purchase</td>\n",
       "      <td>166.3250</td>\n",
       "      <td>6032</td>\n",
       "      <td>12594</td>\n",
       "      <td>2.087865</td>\n",
       "      <td>26.413371</td>\n",
       "      <td>2.294138</td>\n",
       "      <td>2.207400</td>\n",
       "      <td>145</td>\n",
       "      <td>89</td>\n",
       "    </tr>\n",
       "    <tr>\n",
       "      <th>1</th>\n",
       "      <td>20/5/2022</td>\n",
       "      <td>31/5/2022</td>\n",
       "      <td>T1 - Cold - DT - Promo May</td>\n",
       "      <td>915.00</td>\n",
       "      <td>15</td>\n",
       "      <td>actions:offsite_conversion.fb_pixel_purchase</td>\n",
       "      <td>61.0000</td>\n",
       "      <td>18900</td>\n",
       "      <td>42510</td>\n",
       "      <td>2.249206</td>\n",
       "      <td>21.524347</td>\n",
       "      <td>2.636888</td>\n",
       "      <td>1.587862</td>\n",
       "      <td>347</td>\n",
       "      <td>215</td>\n",
       "    </tr>\n",
       "    <tr>\n",
       "      <th>2</th>\n",
       "      <td>20/5/2022</td>\n",
       "      <td>31/5/2022</td>\n",
       "      <td>T2 - Cold - LLA - Promo May</td>\n",
       "      <td>327.77</td>\n",
       "      <td>4</td>\n",
       "      <td>actions:offsite_conversion.fb_pixel_purchase</td>\n",
       "      <td>81.9425</td>\n",
       "      <td>34743</td>\n",
       "      <td>61268</td>\n",
       "      <td>1.763463</td>\n",
       "      <td>5.349775</td>\n",
       "      <td>0.947312</td>\n",
       "      <td>1.237187</td>\n",
       "      <td>346</td>\n",
       "      <td>220</td>\n",
       "    </tr>\n",
       "    <tr>\n",
       "      <th>3</th>\n",
       "      <td>20/5/2022</td>\n",
       "      <td>31/5/2022</td>\n",
       "      <td>T2 - Cold - DT - Promo May</td>\n",
       "      <td>297.38</td>\n",
       "      <td>0</td>\n",
       "      <td>NaN</td>\n",
       "      <td>NaN</td>\n",
       "      <td>45001</td>\n",
       "      <td>65880</td>\n",
       "      <td>1.463967</td>\n",
       "      <td>4.513965</td>\n",
       "      <td>0.788806</td>\n",
       "      <td>1.220401</td>\n",
       "      <td>377</td>\n",
       "      <td>225</td>\n",
       "    </tr>\n",
       "    <tr>\n",
       "      <th>4</th>\n",
       "      <td>20/5/2022</td>\n",
       "      <td>31/5/2022</td>\n",
       "      <td>T3 - Cold - LLA - Promo May</td>\n",
       "      <td>291.45</td>\n",
       "      <td>4</td>\n",
       "      <td>actions:offsite_conversion.fb_pixel_purchase</td>\n",
       "      <td>72.8625</td>\n",
       "      <td>69040</td>\n",
       "      <td>147600</td>\n",
       "      <td>2.137891</td>\n",
       "      <td>1.974594</td>\n",
       "      <td>0.464092</td>\n",
       "      <td>1.115854</td>\n",
       "      <td>628</td>\n",
       "      <td>372</td>\n",
       "    </tr>\n",
       "  </tbody>\n",
       "</table>\n",
       "</div>"
      ],
      "text/plain": [
       "  Reporting Starts Reporting Ends                  Ad Set Name  Amount Spent  \\\n",
       "0        20/5/2022      31/5/2022  T1 - Cold - LLA - Promo May        332.65   \n",
       "1        20/5/2022      31/5/2022   T1 - Cold - DT - Promo May        915.00   \n",
       "2        20/5/2022      31/5/2022  T2 - Cold - LLA - Promo May        327.77   \n",
       "3        20/5/2022      31/5/2022   T2 - Cold - DT - Promo May        297.38   \n",
       "4        20/5/2022      31/5/2022  T3 - Cold - LLA - Promo May        291.45   \n",
       "\n",
       "   Results                              Result indicator       CPR  Reach  \\\n",
       "0        2  actions:offsite_conversion.fb_pixel_purchase  166.3250   6032   \n",
       "1       15  actions:offsite_conversion.fb_pixel_purchase   61.0000  18900   \n",
       "2        4  actions:offsite_conversion.fb_pixel_purchase   81.9425  34743   \n",
       "3        0                                           NaN       NaN  45001   \n",
       "4        4  actions:offsite_conversion.fb_pixel_purchase   72.8625  69040   \n",
       "\n",
       "   Impressions  Frequency        CPM       CPC  CTR (all)  Link Clicks  \\\n",
       "0        12594   2.087865  26.413371  2.294138   2.207400          145   \n",
       "1        42510   2.249206  21.524347  2.636888   1.587862          347   \n",
       "2        61268   1.763463   5.349775  0.947312   1.237187          346   \n",
       "3        65880   1.463967   4.513965  0.788806   1.220401          377   \n",
       "4       147600   2.137891   1.974594  0.464092   1.115854          628   \n",
       "\n",
       "   Landing Page Views  \n",
       "0                  89  \n",
       "1                 215  \n",
       "2                 220  \n",
       "3                 225  \n",
       "4                 372  "
      ]
     },
     "execution_count": 9,
     "metadata": {},
     "output_type": "execute_result"
    }
   ],
   "source": [
    "df.head()"
   ]
  },
  {
   "cell_type": "code",
   "execution_count": 10,
   "id": "9d94029f",
   "metadata": {},
   "outputs": [
    {
     "data": {
      "text/plain": [
       "6.552931538461538"
      ]
     },
     "execution_count": 10,
     "metadata": {},
     "output_type": "execute_result"
    }
   ],
   "source": [
    "df['CPM'].mean()"
   ]
  },
  {
   "cell_type": "markdown",
   "id": "e4859b62",
   "metadata": {},
   "source": [
    "### 5. CTR (Click through Rate):\n",
    "\n",
    "$\\displaystyle \\frac{\\text{Total Link Clicks}}{\\text{Total Impressions}} \\times 100$\n",
    "\n"
   ]
  },
  {
   "cell_type": "code",
   "execution_count": 11,
   "id": "52dd3485",
   "metadata": {},
   "outputs": [
    {
     "data": {
      "text/html": [
       "<div>\n",
       "<style scoped>\n",
       "    .dataframe tbody tr th:only-of-type {\n",
       "        vertical-align: middle;\n",
       "    }\n",
       "\n",
       "    .dataframe tbody tr th {\n",
       "        vertical-align: top;\n",
       "    }\n",
       "\n",
       "    .dataframe thead th {\n",
       "        text-align: right;\n",
       "    }\n",
       "</style>\n",
       "<table border=\"1\" class=\"dataframe\">\n",
       "  <thead>\n",
       "    <tr style=\"text-align: right;\">\n",
       "      <th></th>\n",
       "      <th>Reporting Starts</th>\n",
       "      <th>Reporting Ends</th>\n",
       "      <th>Ad Set Name</th>\n",
       "      <th>Amount Spent</th>\n",
       "      <th>Results</th>\n",
       "      <th>Result indicator</th>\n",
       "      <th>CPR</th>\n",
       "      <th>Reach</th>\n",
       "      <th>Impressions</th>\n",
       "      <th>Frequency</th>\n",
       "      <th>CPM</th>\n",
       "      <th>CPC</th>\n",
       "      <th>CTR (all)</th>\n",
       "      <th>Link Clicks</th>\n",
       "      <th>Landing Page Views</th>\n",
       "    </tr>\n",
       "  </thead>\n",
       "  <tbody>\n",
       "    <tr>\n",
       "      <th>0</th>\n",
       "      <td>20/5/2022</td>\n",
       "      <td>31/5/2022</td>\n",
       "      <td>T1 - Cold - LLA - Promo May</td>\n",
       "      <td>332.65</td>\n",
       "      <td>2</td>\n",
       "      <td>actions:offsite_conversion.fb_pixel_purchase</td>\n",
       "      <td>166.325</td>\n",
       "      <td>6032</td>\n",
       "      <td>12594</td>\n",
       "      <td>2.087865</td>\n",
       "      <td>26.413371</td>\n",
       "      <td>2.294138</td>\n",
       "      <td>2.207400</td>\n",
       "      <td>145</td>\n",
       "      <td>89</td>\n",
       "    </tr>\n",
       "    <tr>\n",
       "      <th>1</th>\n",
       "      <td>20/5/2022</td>\n",
       "      <td>31/5/2022</td>\n",
       "      <td>T1 - Cold - DT - Promo May</td>\n",
       "      <td>915.00</td>\n",
       "      <td>15</td>\n",
       "      <td>actions:offsite_conversion.fb_pixel_purchase</td>\n",
       "      <td>61.000</td>\n",
       "      <td>18900</td>\n",
       "      <td>42510</td>\n",
       "      <td>2.249206</td>\n",
       "      <td>21.524347</td>\n",
       "      <td>2.636888</td>\n",
       "      <td>1.587862</td>\n",
       "      <td>347</td>\n",
       "      <td>215</td>\n",
       "    </tr>\n",
       "  </tbody>\n",
       "</table>\n",
       "</div>"
      ],
      "text/plain": [
       "  Reporting Starts Reporting Ends                  Ad Set Name  Amount Spent  \\\n",
       "0        20/5/2022      31/5/2022  T1 - Cold - LLA - Promo May        332.65   \n",
       "1        20/5/2022      31/5/2022   T1 - Cold - DT - Promo May        915.00   \n",
       "\n",
       "   Results                              Result indicator      CPR  Reach  \\\n",
       "0        2  actions:offsite_conversion.fb_pixel_purchase  166.325   6032   \n",
       "1       15  actions:offsite_conversion.fb_pixel_purchase   61.000  18900   \n",
       "\n",
       "   Impressions  Frequency        CPM       CPC  CTR (all)  Link Clicks  \\\n",
       "0        12594   2.087865  26.413371  2.294138   2.207400          145   \n",
       "1        42510   2.249206  21.524347  2.636888   1.587862          347   \n",
       "\n",
       "   Landing Page Views  \n",
       "0                  89  \n",
       "1                 215  "
      ]
     },
     "execution_count": 11,
     "metadata": {},
     "output_type": "execute_result"
    }
   ],
   "source": [
    "df.head(2)"
   ]
  },
  {
   "cell_type": "code",
   "execution_count": 12,
   "id": "787642a9",
   "metadata": {},
   "outputs": [
    {
     "data": {
      "text/plain": [
       "0.5665608095472924"
      ]
     },
     "execution_count": 12,
     "metadata": {},
     "output_type": "execute_result"
    }
   ],
   "source": [
    "((df['Link Clicks']/df['Impressions'])*100).mean()"
   ]
  },
  {
   "cell_type": "code",
   "execution_count": 13,
   "id": "70fb4251",
   "metadata": {},
   "outputs": [
    {
     "data": {
      "text/plain": [
       "1.2442086153846152"
      ]
     },
     "execution_count": 13,
     "metadata": {},
     "output_type": "execute_result"
    }
   ],
   "source": [
    "df['CTR (all)'].mean()"
   ]
  },
  {
   "cell_type": "markdown",
   "id": "21b1a100",
   "metadata": {},
   "source": [
    "#### 10. CPR (Cost per Result):\n",
    "\n",
    "$\\displaystyle \\frac{\\text{Total Amount Spent}}{\\text{Total Results}} \\$"
   ]
  },
  {
   "cell_type": "code",
   "execution_count": 14,
   "id": "48f3e279",
   "metadata": {},
   "outputs": [
    {
     "data": {
      "text/html": [
       "<div>\n",
       "<style scoped>\n",
       "    .dataframe tbody tr th:only-of-type {\n",
       "        vertical-align: middle;\n",
       "    }\n",
       "\n",
       "    .dataframe tbody tr th {\n",
       "        vertical-align: top;\n",
       "    }\n",
       "\n",
       "    .dataframe thead th {\n",
       "        text-align: right;\n",
       "    }\n",
       "</style>\n",
       "<table border=\"1\" class=\"dataframe\">\n",
       "  <thead>\n",
       "    <tr style=\"text-align: right;\">\n",
       "      <th></th>\n",
       "      <th>Reporting Starts</th>\n",
       "      <th>Reporting Ends</th>\n",
       "      <th>Ad Set Name</th>\n",
       "      <th>Amount Spent</th>\n",
       "      <th>Results</th>\n",
       "      <th>Result indicator</th>\n",
       "      <th>CPR</th>\n",
       "      <th>Reach</th>\n",
       "      <th>Impressions</th>\n",
       "      <th>Frequency</th>\n",
       "      <th>CPM</th>\n",
       "      <th>CPC</th>\n",
       "      <th>CTR (all)</th>\n",
       "      <th>Link Clicks</th>\n",
       "      <th>Landing Page Views</th>\n",
       "    </tr>\n",
       "  </thead>\n",
       "  <tbody>\n",
       "    <tr>\n",
       "      <th>0</th>\n",
       "      <td>20/5/2022</td>\n",
       "      <td>31/5/2022</td>\n",
       "      <td>T1 - Cold - LLA - Promo May</td>\n",
       "      <td>332.65</td>\n",
       "      <td>2</td>\n",
       "      <td>actions:offsite_conversion.fb_pixel_purchase</td>\n",
       "      <td>166.325</td>\n",
       "      <td>6032</td>\n",
       "      <td>12594</td>\n",
       "      <td>2.087865</td>\n",
       "      <td>26.413371</td>\n",
       "      <td>2.294138</td>\n",
       "      <td>2.2074</td>\n",
       "      <td>145</td>\n",
       "      <td>89</td>\n",
       "    </tr>\n",
       "  </tbody>\n",
       "</table>\n",
       "</div>"
      ],
      "text/plain": [
       "  Reporting Starts Reporting Ends                  Ad Set Name  Amount Spent  \\\n",
       "0        20/5/2022      31/5/2022  T1 - Cold - LLA - Promo May        332.65   \n",
       "\n",
       "   Results                              Result indicator      CPR  Reach  \\\n",
       "0        2  actions:offsite_conversion.fb_pixel_purchase  166.325   6032   \n",
       "\n",
       "   Impressions  Frequency        CPM       CPC  CTR (all)  Link Clicks  \\\n",
       "0        12594   2.087865  26.413371  2.294138     2.2074          145   \n",
       "\n",
       "   Landing Page Views  \n",
       "0                  89  "
      ]
     },
     "execution_count": 14,
     "metadata": {},
     "output_type": "execute_result"
    }
   ],
   "source": [
    "df.head(1)"
   ]
  },
  {
   "cell_type": "code",
   "execution_count": 15,
   "id": "2c7134ea",
   "metadata": {},
   "outputs": [
    {
     "data": {
      "text/plain": [
       "inf"
      ]
     },
     "execution_count": 15,
     "metadata": {},
     "output_type": "execute_result"
    }
   ],
   "source": [
    "(df['Amount Spent']/df['Results']).mean()"
   ]
  },
  {
   "cell_type": "code",
   "execution_count": 16,
   "id": "d57fcba7",
   "metadata": {},
   "outputs": [],
   "source": [
    "#remove o values\n",
    "df_not_zero = df[df['Results']!=0]"
   ]
  },
  {
   "cell_type": "code",
   "execution_count": 17,
   "id": "08991b89",
   "metadata": {},
   "outputs": [
    {
     "data": {
      "text/plain": [
       "63.75379220779221"
      ]
     },
     "execution_count": 17,
     "metadata": {},
     "output_type": "execute_result"
    }
   ],
   "source": [
    "(df_not_zero['Amount Spent']/df_not_zero['Results']).mean()"
   ]
  },
  {
   "cell_type": "code",
   "execution_count": 18,
   "id": "a35d8b2f",
   "metadata": {},
   "outputs": [
    {
     "data": {
      "text/plain": [
       "63.75379220818183"
      ]
     },
     "execution_count": 18,
     "metadata": {},
     "output_type": "execute_result"
    }
   ],
   "source": [
    "df['CPR'].mean()"
   ]
  },
  {
   "cell_type": "markdown",
   "id": "f4b5844a",
   "metadata": {},
   "source": [
    "<center><h1><b><font size=\"5\">Analyzing a Facebook Campaign with Paython - Ad Set Overview</font></b></h1></center>"
   ]
  },
  {
   "cell_type": "markdown",
   "id": "8881703f",
   "metadata": {},
   "source": [
    "## Step 3: Ad Set Overview"
   ]
  },
  {
   "cell_type": "code",
   "execution_count": 19,
   "id": "0a74a126",
   "metadata": {},
   "outputs": [
    {
     "data": {
      "text/plain": [
       "array(['T1 - Cold - LLA - Promo May', 'T1 - Cold - DT - Promo May',\n",
       "       'T2 - Cold - LLA - Promo May', 'T2 - Cold - DT - Promo May',\n",
       "       'T3 - Cold - LLA - Promo May', 'T3 - Cold - DT - Promo May',\n",
       "       'T4 - Cold - DT - Promo May', 'T4 - Cold - LLA - Promo May',\n",
       "       'Warm - CRSL', 'Warm - Videos', 'HOT - Last day',\n",
       "       'HOT - Last chance & crsl', 'HOT - Discount'], dtype=object)"
      ]
     },
     "execution_count": 19,
     "metadata": {},
     "output_type": "execute_result"
    }
   ],
   "source": [
    "df['Ad Set Name'].unique()"
   ]
  },
  {
   "cell_type": "markdown",
   "id": "4afcb459",
   "metadata": {},
   "source": [
    "### Hot, Warm, and Cold Ad Sets"
   ]
  },
  {
   "cell_type": "code",
   "execution_count": 20,
   "id": "448d0247",
   "metadata": {},
   "outputs": [
    {
     "data": {
      "text/html": [
       "<div>\n",
       "<style scoped>\n",
       "    .dataframe tbody tr th:only-of-type {\n",
       "        vertical-align: middle;\n",
       "    }\n",
       "\n",
       "    .dataframe tbody tr th {\n",
       "        vertical-align: top;\n",
       "    }\n",
       "\n",
       "    .dataframe thead th {\n",
       "        text-align: right;\n",
       "    }\n",
       "</style>\n",
       "<table border=\"1\" class=\"dataframe\">\n",
       "  <thead>\n",
       "    <tr style=\"text-align: right;\">\n",
       "      <th></th>\n",
       "      <th>Reporting Starts</th>\n",
       "      <th>Reporting Ends</th>\n",
       "      <th>Ad Set Name</th>\n",
       "      <th>Amount Spent</th>\n",
       "      <th>Results</th>\n",
       "      <th>Result indicator</th>\n",
       "      <th>CPR</th>\n",
       "      <th>Reach</th>\n",
       "      <th>Impressions</th>\n",
       "      <th>Frequency</th>\n",
       "      <th>CPM</th>\n",
       "      <th>CPC</th>\n",
       "      <th>CTR (all)</th>\n",
       "      <th>Link Clicks</th>\n",
       "      <th>Landing Page Views</th>\n",
       "      <th>Category</th>\n",
       "    </tr>\n",
       "  </thead>\n",
       "  <tbody>\n",
       "    <tr>\n",
       "      <th>0</th>\n",
       "      <td>20/5/2022</td>\n",
       "      <td>31/5/2022</td>\n",
       "      <td>T1 - Cold - LLA - Promo May</td>\n",
       "      <td>332.65</td>\n",
       "      <td>2</td>\n",
       "      <td>actions:offsite_conversion.fb_pixel_purchase</td>\n",
       "      <td>166.3250</td>\n",
       "      <td>6032</td>\n",
       "      <td>12594</td>\n",
       "      <td>2.087865</td>\n",
       "      <td>26.413371</td>\n",
       "      <td>2.294138</td>\n",
       "      <td>2.207400</td>\n",
       "      <td>145</td>\n",
       "      <td>89</td>\n",
       "      <td>Cold</td>\n",
       "    </tr>\n",
       "    <tr>\n",
       "      <th>1</th>\n",
       "      <td>20/5/2022</td>\n",
       "      <td>31/5/2022</td>\n",
       "      <td>T1 - Cold - DT - Promo May</td>\n",
       "      <td>915.00</td>\n",
       "      <td>15</td>\n",
       "      <td>actions:offsite_conversion.fb_pixel_purchase</td>\n",
       "      <td>61.0000</td>\n",
       "      <td>18900</td>\n",
       "      <td>42510</td>\n",
       "      <td>2.249206</td>\n",
       "      <td>21.524347</td>\n",
       "      <td>2.636888</td>\n",
       "      <td>1.587862</td>\n",
       "      <td>347</td>\n",
       "      <td>215</td>\n",
       "      <td>Cold</td>\n",
       "    </tr>\n",
       "    <tr>\n",
       "      <th>2</th>\n",
       "      <td>20/5/2022</td>\n",
       "      <td>31/5/2022</td>\n",
       "      <td>T2 - Cold - LLA - Promo May</td>\n",
       "      <td>327.77</td>\n",
       "      <td>4</td>\n",
       "      <td>actions:offsite_conversion.fb_pixel_purchase</td>\n",
       "      <td>81.9425</td>\n",
       "      <td>34743</td>\n",
       "      <td>61268</td>\n",
       "      <td>1.763463</td>\n",
       "      <td>5.349775</td>\n",
       "      <td>0.947312</td>\n",
       "      <td>1.237187</td>\n",
       "      <td>346</td>\n",
       "      <td>220</td>\n",
       "      <td>Cold</td>\n",
       "    </tr>\n",
       "    <tr>\n",
       "      <th>3</th>\n",
       "      <td>20/5/2022</td>\n",
       "      <td>31/5/2022</td>\n",
       "      <td>T2 - Cold - DT - Promo May</td>\n",
       "      <td>297.38</td>\n",
       "      <td>0</td>\n",
       "      <td>NaN</td>\n",
       "      <td>NaN</td>\n",
       "      <td>45001</td>\n",
       "      <td>65880</td>\n",
       "      <td>1.463967</td>\n",
       "      <td>4.513965</td>\n",
       "      <td>0.788806</td>\n",
       "      <td>1.220401</td>\n",
       "      <td>377</td>\n",
       "      <td>225</td>\n",
       "      <td>Cold</td>\n",
       "    </tr>\n",
       "    <tr>\n",
       "      <th>4</th>\n",
       "      <td>20/5/2022</td>\n",
       "      <td>31/5/2022</td>\n",
       "      <td>T3 - Cold - LLA - Promo May</td>\n",
       "      <td>291.45</td>\n",
       "      <td>4</td>\n",
       "      <td>actions:offsite_conversion.fb_pixel_purchase</td>\n",
       "      <td>72.8625</td>\n",
       "      <td>69040</td>\n",
       "      <td>147600</td>\n",
       "      <td>2.137891</td>\n",
       "      <td>1.974594</td>\n",
       "      <td>0.464092</td>\n",
       "      <td>1.115854</td>\n",
       "      <td>628</td>\n",
       "      <td>372</td>\n",
       "      <td>Cold</td>\n",
       "    </tr>\n",
       "  </tbody>\n",
       "</table>\n",
       "</div>"
      ],
      "text/plain": [
       "  Reporting Starts Reporting Ends                  Ad Set Name  Amount Spent  \\\n",
       "0        20/5/2022      31/5/2022  T1 - Cold - LLA - Promo May        332.65   \n",
       "1        20/5/2022      31/5/2022   T1 - Cold - DT - Promo May        915.00   \n",
       "2        20/5/2022      31/5/2022  T2 - Cold - LLA - Promo May        327.77   \n",
       "3        20/5/2022      31/5/2022   T2 - Cold - DT - Promo May        297.38   \n",
       "4        20/5/2022      31/5/2022  T3 - Cold - LLA - Promo May        291.45   \n",
       "\n",
       "   Results                              Result indicator       CPR  Reach  \\\n",
       "0        2  actions:offsite_conversion.fb_pixel_purchase  166.3250   6032   \n",
       "1       15  actions:offsite_conversion.fb_pixel_purchase   61.0000  18900   \n",
       "2        4  actions:offsite_conversion.fb_pixel_purchase   81.9425  34743   \n",
       "3        0                                           NaN       NaN  45001   \n",
       "4        4  actions:offsite_conversion.fb_pixel_purchase   72.8625  69040   \n",
       "\n",
       "   Impressions  Frequency        CPM       CPC  CTR (all)  Link Clicks  \\\n",
       "0        12594   2.087865  26.413371  2.294138   2.207400          145   \n",
       "1        42510   2.249206  21.524347  2.636888   1.587862          347   \n",
       "2        61268   1.763463   5.349775  0.947312   1.237187          346   \n",
       "3        65880   1.463967   4.513965  0.788806   1.220401          377   \n",
       "4       147600   2.137891   1.974594  0.464092   1.115854          628   \n",
       "\n",
       "   Landing Page Views Category  \n",
       "0                  89     Cold  \n",
       "1                 215     Cold  \n",
       "2                 220     Cold  \n",
       "3                 225     Cold  \n",
       "4                 372     Cold  "
      ]
     },
     "execution_count": 20,
     "metadata": {},
     "output_type": "execute_result"
    }
   ],
   "source": [
    "def categorize_ad_set(ad_set_name):\n",
    "    if 'Warm' in ad_set_name:\n",
    "        return 'Warm'\n",
    "    elif 'HOT' in ad_set_name:\n",
    "        return 'Hot'\n",
    "    else:\n",
    "        return 'Cold'\n",
    "\n",
    "    #new column category \n",
    "df['Category'] = df['Ad Set Name'].apply(categorize_ad_set)\n",
    "df.head()"
   ]
  },
  {
   "cell_type": "code",
   "execution_count": 21,
   "id": "994788be",
   "metadata": {},
   "outputs": [
    {
     "data": {
      "text/html": [
       "<div>\n",
       "<style scoped>\n",
       "    .dataframe tbody tr th:only-of-type {\n",
       "        vertical-align: middle;\n",
       "    }\n",
       "\n",
       "    .dataframe tbody tr th {\n",
       "        vertical-align: top;\n",
       "    }\n",
       "\n",
       "    .dataframe thead th {\n",
       "        text-align: right;\n",
       "    }\n",
       "</style>\n",
       "<table border=\"1\" class=\"dataframe\">\n",
       "  <thead>\n",
       "    <tr style=\"text-align: right;\">\n",
       "      <th></th>\n",
       "      <th>Reach</th>\n",
       "      <th>Impressions</th>\n",
       "      <th>CTR (all)</th>\n",
       "      <th>Results</th>\n",
       "      <th>CPR</th>\n",
       "    </tr>\n",
       "    <tr>\n",
       "      <th>Category</th>\n",
       "      <th></th>\n",
       "      <th></th>\n",
       "      <th></th>\n",
       "      <th></th>\n",
       "      <th></th>\n",
       "    </tr>\n",
       "  </thead>\n",
       "  <tbody>\n",
       "    <tr>\n",
       "      <th>Cold</th>\n",
       "      <td>44435.375000</td>\n",
       "      <td>79417.500000</td>\n",
       "      <td>1.370799</td>\n",
       "      <td>4.000000</td>\n",
       "      <td>80.352667</td>\n",
       "    </tr>\n",
       "    <tr>\n",
       "      <th>Hot</th>\n",
       "      <td>11195.666667</td>\n",
       "      <td>58889.666667</td>\n",
       "      <td>1.034126</td>\n",
       "      <td>10.333333</td>\n",
       "      <td>38.851667</td>\n",
       "    </tr>\n",
       "    <tr>\n",
       "      <th>Warm</th>\n",
       "      <td>32232.000000</td>\n",
       "      <td>162021.500000</td>\n",
       "      <td>1.052970</td>\n",
       "      <td>10.000000</td>\n",
       "      <td>51.310357</td>\n",
       "    </tr>\n",
       "  </tbody>\n",
       "</table>\n",
       "</div>"
      ],
      "text/plain": [
       "                 Reach    Impressions  CTR (all)    Results        CPR\n",
       "Category                                                              \n",
       "Cold      44435.375000   79417.500000   1.370799   4.000000  80.352667\n",
       "Hot       11195.666667   58889.666667   1.034126  10.333333  38.851667\n",
       "Warm      32232.000000  162021.500000   1.052970  10.000000  51.310357"
      ]
     },
     "execution_count": 21,
     "metadata": {},
     "output_type": "execute_result"
    }
   ],
   "source": [
    "#find the mean\n",
    "#new dataframe called results\n",
    "results = df.groupby('Category').agg({'Reach':'mean','Impressions':'mean',\n",
    "                                    'CTR (all)':'mean','Results':'mean',\n",
    "                                    'CPR':'mean'})\n",
    "\n",
    "results"
   ]
  },
  {
   "cell_type": "markdown",
   "id": "0d0dca59",
   "metadata": {},
   "source": [
    "### Looalike vs Detailed Targeting"
   ]
  },
  {
   "cell_type": "code",
   "execution_count": 22,
   "id": "8decde7b",
   "metadata": {},
   "outputs": [
    {
     "data": {
      "text/plain": [
       "array(['T1 - Cold - LLA - Promo May', 'T1 - Cold - DT - Promo May',\n",
       "       'T2 - Cold - LLA - Promo May', 'T2 - Cold - DT - Promo May',\n",
       "       'T3 - Cold - LLA - Promo May', 'T3 - Cold - DT - Promo May',\n",
       "       'T4 - Cold - DT - Promo May', 'T4 - Cold - LLA - Promo May',\n",
       "       'Warm - CRSL', 'Warm - Videos', 'HOT - Last day',\n",
       "       'HOT - Last chance & crsl', 'HOT - Discount'], dtype=object)"
      ]
     },
     "execution_count": 22,
     "metadata": {},
     "output_type": "execute_result"
    }
   ],
   "source": [
    "df['Ad Set Name'].unique()"
   ]
  },
  {
   "cell_type": "code",
   "execution_count": 23,
   "id": "15015936",
   "metadata": {},
   "outputs": [],
   "source": [
    "def categorize_ad_set_2(ad_set_name):\n",
    "    if('DT' in ad_set_name):\n",
    "        return 'Detailed Targeting' #DT\n",
    "    elif('LLA' in ad_set_name):\n",
    "        return 'Lookalike Audience' #LLA\n",
    "    else:\n",
    "        return 'Other'\n",
    "\n",
    "#new columns subcategory\n",
    "df['Subcategory'] = df['Ad Set Name'].apply(categorize_ad_set_2)"
   ]
  },
  {
   "cell_type": "code",
   "execution_count": 24,
   "id": "2aea9ceb",
   "metadata": {},
   "outputs": [],
   "source": [
    "df_cold = df[df['Category']=='Cold']"
   ]
  },
  {
   "cell_type": "code",
   "execution_count": 25,
   "id": "c845049a",
   "metadata": {},
   "outputs": [
    {
     "data": {
      "text/html": [
       "<div>\n",
       "<style scoped>\n",
       "    .dataframe tbody tr th:only-of-type {\n",
       "        vertical-align: middle;\n",
       "    }\n",
       "\n",
       "    .dataframe tbody tr th {\n",
       "        vertical-align: top;\n",
       "    }\n",
       "\n",
       "    .dataframe thead th {\n",
       "        text-align: right;\n",
       "    }\n",
       "</style>\n",
       "<table border=\"1\" class=\"dataframe\">\n",
       "  <thead>\n",
       "    <tr style=\"text-align: right;\">\n",
       "      <th></th>\n",
       "      <th>Reach</th>\n",
       "      <th>Impressions</th>\n",
       "      <th>CTR (all)</th>\n",
       "      <th>Results</th>\n",
       "      <th>CPR</th>\n",
       "    </tr>\n",
       "    <tr>\n",
       "      <th>Subcategory</th>\n",
       "      <th></th>\n",
       "      <th></th>\n",
       "      <th></th>\n",
       "      <th></th>\n",
       "      <th></th>\n",
       "    </tr>\n",
       "  </thead>\n",
       "  <tbody>\n",
       "    <tr>\n",
       "      <th>Detailed Targeting</th>\n",
       "      <td>34033.25</td>\n",
       "      <td>53142.25</td>\n",
       "      <td>1.351996</td>\n",
       "      <td>4.25</td>\n",
       "      <td>53.2550</td>\n",
       "    </tr>\n",
       "    <tr>\n",
       "      <th>Lookalike Audience</th>\n",
       "      <td>54837.50</td>\n",
       "      <td>105692.75</td>\n",
       "      <td>1.389602</td>\n",
       "      <td>3.75</td>\n",
       "      <td>93.9015</td>\n",
       "    </tr>\n",
       "  </tbody>\n",
       "</table>\n",
       "</div>"
      ],
      "text/plain": [
       "                       Reach  Impressions  CTR (all)  Results      CPR\n",
       "Subcategory                                                           \n",
       "Detailed Targeting  34033.25     53142.25   1.351996     4.25  53.2550\n",
       "Lookalike Audience  54837.50    105692.75   1.389602     3.75  93.9015"
      ]
     },
     "execution_count": 25,
     "metadata": {},
     "output_type": "execute_result"
    }
   ],
   "source": [
    "df_cold = df_cold.groupby('Subcategory').agg({'Reach':'mean','Impressions':'mean',\n",
    "                                    'CTR (all)':'mean','Results':'mean',\n",
    "                                    'CPR':'mean'})\n",
    "\n",
    "df_cold"
   ]
  },
  {
   "cell_type": "code",
   "execution_count": 29,
   "id": "67d07669",
   "metadata": {},
   "outputs": [],
   "source": [
    "import matplotlib.pyplot as plt\n",
    "import seaborn as sns\n",
    "\n",
    "import warnings\n",
    "\n",
    "# Ignore all warnings\n",
    "warnings.filterwarnings(\"ignore\")"
   ]
  },
  {
   "cell_type": "code",
   "execution_count": 27,
   "id": "89ca62bd",
   "metadata": {},
   "outputs": [
    {
     "data": {
      "text/html": [
       "<div>\n",
       "<style scoped>\n",
       "    .dataframe tbody tr th:only-of-type {\n",
       "        vertical-align: middle;\n",
       "    }\n",
       "\n",
       "    .dataframe tbody tr th {\n",
       "        vertical-align: top;\n",
       "    }\n",
       "\n",
       "    .dataframe thead th {\n",
       "        text-align: right;\n",
       "    }\n",
       "</style>\n",
       "<table border=\"1\" class=\"dataframe\">\n",
       "  <thead>\n",
       "    <tr style=\"text-align: right;\">\n",
       "      <th></th>\n",
       "      <th>Subcategory</th>\n",
       "      <th>variable</th>\n",
       "      <th>value</th>\n",
       "    </tr>\n",
       "  </thead>\n",
       "  <tbody>\n",
       "    <tr>\n",
       "      <th>0</th>\n",
       "      <td>Detailed Targeting</td>\n",
       "      <td>Reach</td>\n",
       "      <td>34033.250000</td>\n",
       "    </tr>\n",
       "    <tr>\n",
       "      <th>1</th>\n",
       "      <td>Lookalike Audience</td>\n",
       "      <td>Reach</td>\n",
       "      <td>54837.500000</td>\n",
       "    </tr>\n",
       "    <tr>\n",
       "      <th>2</th>\n",
       "      <td>Detailed Targeting</td>\n",
       "      <td>Impressions</td>\n",
       "      <td>53142.250000</td>\n",
       "    </tr>\n",
       "    <tr>\n",
       "      <th>3</th>\n",
       "      <td>Lookalike Audience</td>\n",
       "      <td>Impressions</td>\n",
       "      <td>105692.750000</td>\n",
       "    </tr>\n",
       "    <tr>\n",
       "      <th>4</th>\n",
       "      <td>Detailed Targeting</td>\n",
       "      <td>CTR (all)</td>\n",
       "      <td>1.351996</td>\n",
       "    </tr>\n",
       "    <tr>\n",
       "      <th>5</th>\n",
       "      <td>Lookalike Audience</td>\n",
       "      <td>CTR (all)</td>\n",
       "      <td>1.389602</td>\n",
       "    </tr>\n",
       "    <tr>\n",
       "      <th>6</th>\n",
       "      <td>Detailed Targeting</td>\n",
       "      <td>Results</td>\n",
       "      <td>4.250000</td>\n",
       "    </tr>\n",
       "    <tr>\n",
       "      <th>7</th>\n",
       "      <td>Lookalike Audience</td>\n",
       "      <td>Results</td>\n",
       "      <td>3.750000</td>\n",
       "    </tr>\n",
       "    <tr>\n",
       "      <th>8</th>\n",
       "      <td>Detailed Targeting</td>\n",
       "      <td>CPR</td>\n",
       "      <td>53.255000</td>\n",
       "    </tr>\n",
       "    <tr>\n",
       "      <th>9</th>\n",
       "      <td>Lookalike Audience</td>\n",
       "      <td>CPR</td>\n",
       "      <td>93.901500</td>\n",
       "    </tr>\n",
       "  </tbody>\n",
       "</table>\n",
       "</div>"
      ],
      "text/plain": [
       "          Subcategory     variable          value\n",
       "0  Detailed Targeting        Reach   34033.250000\n",
       "1  Lookalike Audience        Reach   54837.500000\n",
       "2  Detailed Targeting  Impressions   53142.250000\n",
       "3  Lookalike Audience  Impressions  105692.750000\n",
       "4  Detailed Targeting    CTR (all)       1.351996\n",
       "5  Lookalike Audience    CTR (all)       1.389602\n",
       "6  Detailed Targeting      Results       4.250000\n",
       "7  Lookalike Audience      Results       3.750000\n",
       "8  Detailed Targeting          CPR      53.255000\n",
       "9  Lookalike Audience          CPR      93.901500"
      ]
     },
     "execution_count": 27,
     "metadata": {},
     "output_type": "execute_result"
    }
   ],
   "source": [
    "df_transformed = df_cold.reset_index().melt('Subcategory')\n",
    "df_transformed"
   ]
  },
  {
   "cell_type": "code",
   "execution_count": 30,
   "id": "62e6dfdd",
   "metadata": {
    "scrolled": false
   },
   "outputs": [
    {
     "data": {
      "image/png": "[encoded data removed]",
      "text/plain": [
       "<Figure size 1296x576 with 5 Axes>"
      ]
     },
     "metadata": {
      "needs_background": "light"
     },
     "output_type": "display_data"
    }
   ],
   "source": [
    "viz = sns.FacetGrid(df_transformed, col='variable', col_wrap=3, sharex=False,\n",
    "                   sharey=False, height=4, aspect=1.5)\n",
    "\n",
    "viz.map(sns.barplot, 'Subcategory', 'value', order=df_cold.reset_index()['Subcategory'])\n",
    "\n",
    "plt.show()"
   ]
  },
  {
   "cell_type": "markdown",
   "id": "34eb4004",
   "metadata": {},
   "source": [
    "<center><h1><b><font size=\"5\">Analyzing a Facebook Campaign with Paython - Detailed Ad Set Analysis</font></b></h1></center>"
   ]
  },
  {
   "cell_type": "markdown",
   "id": "43afc75f",
   "metadata": {},
   "source": [
    "## Step 4: Detailed Ad Set Analysis"
   ]
  },
  {
   "cell_type": "markdown",
   "id": "03fccb5d",
   "metadata": {},
   "source": [
    "### Hot"
   ]
  },
  {
   "cell_type": "code",
   "execution_count": 31,
   "id": "8523152b",
   "metadata": {},
   "outputs": [],
   "source": [
    "df_hot = df[df['Category']=='Hot']\n",
    "df_hot = df_hot.reset_index()"
   ]
  },
  {
   "cell_type": "markdown",
   "id": "050ab24c",
   "metadata": {},
   "source": [
    "### Top-Funnel Metrics"
   ]
  },
  {
   "cell_type": "code",
   "execution_count": 32,
   "id": "57b398aa",
   "metadata": {},
   "outputs": [
    {
     "data": {
      "image/png": "[encoded data removed]",
      "text/plain": [
       "<Figure size 1368x360 with 3 Axes>"
      ]
     },
     "metadata": {
      "needs_background": "light"
     },
     "output_type": "display_data"
    }
   ],
   "source": [
    "def top_funnel_metrics(df):\n",
    "    fig, axs = plt.subplots(1, 3, figsize=(19,5)) #matplot viz\n",
    "    \n",
    "    sns.barplot(x='Ad Set Name', y='Reach', data=df, ax=axs[0]) #sns subplot\n",
    "    axs[0].set_title('Reach')\n",
    "    \n",
    "    sns.barplot(x='Ad Set Name', y='Impressions', data=df, ax=axs[1])\n",
    "    axs[1].set_title('Impressions')\n",
    "    \n",
    "    sns.barplot(x='Ad Set Name', y='CPM', data=df, ax=axs[2])\n",
    "    axs[2].set_title('CPM')\n",
    "    \n",
    "    for ax in axs: #for loop\n",
    "        for label in ax.get_xticklabels():\n",
    "            label.set_rotation(90)\n",
    "            \n",
    "    plt.show()\n",
    "    \n",
    "top_funnel_metrics(df_hot)"
   ]
  },
  {
   "cell_type": "markdown",
   "id": "bdd69b96",
   "metadata": {},
   "source": [
    "### Mid-Funnel Metrics"
   ]
  },
  {
   "cell_type": "code",
   "execution_count": 33,
   "id": "7a318e60",
   "metadata": {},
   "outputs": [
    {
     "data": {
      "image/png": "[encoded data removed]",
      "text/plain": [
       "<Figure size 1368x360 with 3 Axes>"
      ]
     },
     "metadata": {
      "needs_background": "light"
     },
     "output_type": "display_data"
    }
   ],
   "source": [
    "def mid_funnel_metrics(df):\n",
    "    fig, axs = plt.subplots(1, 3, figsize=(19,5))\n",
    "    \n",
    "    sns.barplot(x='Ad Set Name', y='CTR (all)', data=df, ax=axs[0])\n",
    "    axs[0].set_title('CTR (all)')\n",
    "    \n",
    "    sns.barplot(x='Ad Set Name', y='Landing Page Views', data=df, ax=axs[1])\n",
    "    axs[1].set_title('Landing Page Views')\n",
    "    \n",
    "    sns.barplot(x='Ad Set Name', y='CPC', data=df, ax=axs[2])\n",
    "    axs[2].set_title('CPC')\n",
    "    \n",
    "    for ax in axs:\n",
    "        for label in ax.get_xticklabels():\n",
    "            label.set_rotation(90)\n",
    "    \n",
    "    plt.show()\n",
    "    \n",
    "mid_funnel_metrics(df_hot)"
   ]
  },
  {
   "cell_type": "markdown",
   "id": "f82c55d8",
   "metadata": {},
   "source": [
    "### Bottom-Funnel Metrics"
   ]
  },
  {
   "cell_type": "code",
   "execution_count": 34,
   "id": "695fa9e7",
   "metadata": {},
   "outputs": [
    {
     "data": {
      "image/png": "[encoded data removed]",
      "text/plain": [
       "<Figure size 1368x360 with 2 Axes>"
      ]
     },
     "metadata": {
      "needs_background": "light"
     },
     "output_type": "display_data"
    }
   ],
   "source": [
    "def bottom_funnel_metrics(df):\n",
    "    fig, axs = plt.subplots(1, 2, figsize=(19,5))\n",
    "    \n",
    "    sns.barplot(x='Ad Set Name', y='Results', data=df, ax=axs[0])\n",
    "    axs[0].set_title('Results')\n",
    "    \n",
    "    sns.barplot(x='Ad Set Name', y='CPR', data=df, ax=axs[1])\n",
    "    axs[1].set_title('CPR')\n",
    "    \n",
    "    for ax in axs:\n",
    "        for label in ax.get_xticklabels():\n",
    "            label.set_rotation(90)\n",
    "    \n",
    "    plt.show()\n",
    "    \n",
    "bottom_funnel_metrics(df_hot)"
   ]
  },
  {
   "cell_type": "code",
   "execution_count": 35,
   "id": "dc12e635",
   "metadata": {},
   "outputs": [
    {
     "data": {
      "text/plain": [
       "<Axes: xlabel='Ad Set Name', ylabel='Amount Spent'>"
      ]
     },
     "execution_count": 35,
     "metadata": {},
     "output_type": "execute_result"
    },
    {
     "data": {
      "image/png": "[encoded data removed]",
      "text/plain": [
       "<Figure size 432x288 with 1 Axes>"
      ]
     },
     "metadata": {
      "needs_background": "light"
     },
     "output_type": "display_data"
    }
   ],
   "source": [
    "sns.barplot(x='Ad Set Name', y='Amount Spent', data=df_hot)"
   ]
  },
  {
   "cell_type": "markdown",
   "id": "b02e9072",
   "metadata": {},
   "source": [
    "### Warm"
   ]
  },
  {
   "cell_type": "code",
   "execution_count": 36,
   "id": "b2d6fae4",
   "metadata": {},
   "outputs": [],
   "source": [
    "df_warm = df[df['Category']=='Warm']\n",
    "df_warm = df_warm.reset_index()"
   ]
  },
  {
   "cell_type": "code",
   "execution_count": 37,
   "id": "7c1eed46",
   "metadata": {},
   "outputs": [
    {
     "data": {
      "image/png": "[encoded data removed]",
      "text/plain": [
       "<Figure size 1368x360 with 3 Axes>"
      ]
     },
     "metadata": {
      "needs_background": "light"
     },
     "output_type": "display_data"
    }
   ],
   "source": [
    "top_funnel_metrics(df_warm)"
   ]
  },
  {
   "cell_type": "code",
   "execution_count": 38,
   "id": "82b871fc",
   "metadata": {},
   "outputs": [
    {
     "data": {
      "image/png": "[encoded data removed]",
      "text/plain": [
       "<Figure size 1368x360 with 3 Axes>"
      ]
     },
     "metadata": {
      "needs_background": "light"
     },
     "output_type": "display_data"
    }
   ],
   "source": [
    "mid_funnel_metrics(df_warm)"
   ]
  },
  {
   "cell_type": "code",
   "execution_count": 39,
   "id": "d6cff6aa",
   "metadata": {},
   "outputs": [
    {
     "data": {
      "text/plain": [
       "<Axes: xlabel='Ad Set Name', ylabel='Link Clicks'>"
      ]
     },
     "execution_count": 39,
     "metadata": {},
     "output_type": "execute_result"
    },
    {
     "data": {
      "image/png": "[encoded data removed]",
      "text/plain": [
       "<Figure size 432x288 with 1 Axes>"
      ]
     },
     "metadata": {
      "needs_background": "light"
     },
     "output_type": "display_data"
    }
   ],
   "source": [
    "sns.barplot(x='Ad Set Name', y='Link Clicks', data=df_warm)"
   ]
  },
  {
   "cell_type": "code",
   "execution_count": 40,
   "id": "ff33caca",
   "metadata": {},
   "outputs": [
    {
     "data": {
      "image/png": "[encoded data removed]",
      "text/plain": [
       "<Figure size 1368x360 with 2 Axes>"
      ]
     },
     "metadata": {
      "needs_background": "light"
     },
     "output_type": "display_data"
    }
   ],
   "source": [
    "bottom_funnel_metrics(df_warm)"
   ]
  },
  {
   "cell_type": "markdown",
   "id": "e2009605",
   "metadata": {},
   "source": [
    "### Cold"
   ]
  },
  {
   "cell_type": "code",
   "execution_count": 41,
   "id": "e9f4b10b",
   "metadata": {},
   "outputs": [],
   "source": [
    "df_cold = df[df['Category']=='Cold']\n",
    "df_cold = df_cold.reset_index()"
   ]
  },
  {
   "cell_type": "code",
   "execution_count": 42,
   "id": "741b9309",
   "metadata": {},
   "outputs": [],
   "source": [
    "def all_cold_adsets(df, metrics, ad_set_types=['Lookalike Audience','Detailed Targeting']):\n",
    "    \n",
    "    fig, axes = plt.subplots(nrows=len(metrics), ncols=len(ad_set_types), figsize=(12,11), sharey='row')\n",
    "    \n",
    "    for i, metric in enumerate(metrics):\n",
    "        for j, ad_set_type in enumerate(ad_set_types):\n",
    "            filtered_df = df[df['Subcategory']==ad_set_type]\n",
    "            ax = axes[i,j]\n",
    "            sns.barplot(x='Ad Set Name', y=metric, data=filtered_df, ax=ax)\n",
    "            ax.set_title(f'{metric}-{ad_set_type}')\n",
    "            ax.set_xticklabels(ax.get_xticklabels(), rotation=90)\n",
    "            \n",
    "    plt.tight_layout()\n",
    "    plt.show()"
   ]
  },
  {
   "cell_type": "code",
   "execution_count": 43,
   "id": "0242ce93",
   "metadata": {},
   "outputs": [
    {
     "data": {
      "image/png": "[encoded data removed]",
      "text/plain": [
       "<Figure size 864x792 with 6 Axes>"
      ]
     },
     "metadata": {
      "needs_background": "light"
     },
     "output_type": "display_data"
    }
   ],
   "source": [
    "top_funnel_metrics = ['Reach', 'Impressions', 'CPM']\n",
    "all_cold_adsets(df_cold, top_funnel_metrics)"
   ]
  },
  {
   "cell_type": "markdown",
   "id": "52172cbb",
   "metadata": {},
   "source": [
    "### Mid-Funnel Metrics"
   ]
  },
  {
   "cell_type": "code",
   "execution_count": 44,
   "id": "39d5a14a",
   "metadata": {},
   "outputs": [
    {
     "data": {
      "image/png": "[encoded data removed]",
      "text/plain": [
       "<Figure size 864x792 with 6 Axes>"
      ]
     },
     "metadata": {
      "needs_background": "light"
     },
     "output_type": "display_data"
    }
   ],
   "source": [
    "mid_funnel_metrics = ['CTR (all)','CPC','Landing Page Views']\n",
    "all_cold_adsets(df_cold, mid_funnel_metrics)"
   ]
  },
  {
   "cell_type": "markdown",
   "id": "e2c00bc9",
   "metadata": {},
   "source": [
    "### Bottom-Funnel Metrics"
   ]
  },
  {
   "cell_type": "code",
   "execution_count": 45,
   "id": "9e261c39",
   "metadata": {},
   "outputs": [
    {
     "data": {
      "image/png": "[encoded data removed]",
      "text/plain": [
       "<Figure size 864x792 with 6 Axes>"
      ]
     },
     "metadata": {
      "needs_background": "light"
     },
     "output_type": "display_data"
    }
   ],
   "source": [
    "bottom_funnel_metrics = ['Results','CPR','Amount Spent']\n",
    "all_cold_adsets(df_cold, bottom_funnel_metrics)"
   ]
  }
 ],
 "metadata": {
  "kernelspec": {
   "display_name": "Python 3 (ipykernel)",
   "language": "python",
   "name": "python3"
  },
  "language_info": {
   "codemirror_mode": {
    "name": "ipython",
    "version": 3
   },
   "file_extension": ".py",
   "mimetype": "text/x-python",
   "name": "python",
   "nbconvert_exporter": "python",
   "pygments_lexer": "ipython3",
   "version": "3.9.13"
  }
 },
 "nbformat": 4,
 "nbformat_minor": 5
}
